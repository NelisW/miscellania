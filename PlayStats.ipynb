{
 "cells": [
  {
   "cell_type": "markdown",
   "metadata": {},
   "source": [
    "Threshold value in terms of standard deviation, given the cumulative probability.\n",
    "\n",
    "http://www.johndcook.com/blog/distributions_scipy/\n",
    "mentions the function scipy.stats.niorm.isf which is the \n",
    "Inverse survival function (Complementary CDF inverse).\n",
    "This is the threshold value expressed in mean plus fractions of \n",
    "standard deviation that will result in the correct cumulative\n",
    "probability function calculated from minus infinity to threshold\n",
    "\n",
    "Definition:\n",
    "https://en.wikipedia.org/wiki/Error_function\n",
    "\n",
    "$$\n",
    "\\Phi(x) = \\frac{1}{\\sqrt{2\\pi}} \\int_{-infty}^x \\exp[-t^2/2] dt\n",
    "        = 0.5 + 0.5 \\erf(\\frac{x}{\\sqrt{2}})\n",
    "$$\n",
    "\n",
    "where \n",
    "$$\\erf(x) = \\frac{2}{\\sqrt{\\pi}} \\int_0^x \\exp[-t^2/2] dt$$\n",
    "\n",
    "Table:\n",
    "https://homes.cs.washington.edu/~jrl/normal_cdf.pdf\n",
    "\n",
    "Additional info:\n",
    "https://en.wikipedia.org/wiki/Error_function\n",
    "https://en.wikipedia.org/wiki/Standard_score\n",
    "https://en.wikipedia.org/wiki/Cumulative_distribution_function\n",
    "https://docs.scipy.org/doc/scipy/reference/tutorial/stats.html\n",
    "https://docs.scipy.org/doc/scipy-0.16.1/reference/generated/scipy.stats.norm.html\n"
   ]
  },
  {
   "cell_type": "code",
   "execution_count": 2,
   "metadata": {
    "collapsed": false
   },
   "outputs": [
    {
     "name": "stdout",
     "output_type": "stream",
     "text": [
      "[[ 0.005      -2.5758293 ]\n",
      " [ 0.01       -2.32634787]\n",
      " [ 0.05       -1.64485363]\n",
      " [ 0.1        -1.28155157]\n",
      " [ 0.2        -0.84162123]\n",
      " [ 0.3        -0.52440051]\n",
      " [ 0.4        -0.2533471 ]\n",
      " [ 0.5        -0.        ]\n",
      " [ 0.6         0.2533471 ]\n",
      " [ 0.7         0.52440051]\n",
      " [ 0.8         0.84162123]\n",
      " [ 0.9         1.28155157]\n",
      " [ 0.95        1.64485363]\n",
      " [ 0.97        1.88079361]\n",
      " [ 0.99        2.32634787]\n",
      " [ 0.9987      3.01145376]]\n"
     ]
    },
    {
     "data": {
      "text/plain": [
       "<bound method Plotter.plot of <pyradi.ryplot.Plotter instance at 0x00000000099EEA08>>"
      ]
     },
     "execution_count": 2,
     "metadata": {},
     "output_type": "execute_result"
    },
    {
     "data": {
      "image/png": "[encoded data removed]",
      "text/plain": [
       "<matplotlib.figure.Figure at 0x72fd780>"
      ]
     },
     "metadata": {},
     "output_type": "display_data"
    }
   ],
   "source": [
    "from scipy.stats import norm\n",
    "import numpy as np\n",
    "import pyradi.ryplot as ryplot\n",
    "%matplotlib inline\n",
    "\n",
    "perc = np.array([0.005, 0.01,0.05,0.1,0.2,0.3,0.4,0.5,0.6,0.7,0.8,0.9,0.95,0.97,0.99,0.9987]).reshape(-1,1)\n",
    "#not quite sure why we must negate\n",
    "sigm = -norm.isf(perc)\n",
    "\n",
    "table = np.hstack((perc,sigm))\n",
    "print(table)\n",
    "\n",
    "p = ryplot.Plotter(1,1,1,figsize=(8,4))\n",
    "p.plot(1,sigm,perc)\n",
    "p.plot\n"
   ]
  },
  {
   "cell_type": "code",
   "execution_count": 3,
   "metadata": {
    "collapsed": false
   },
   "outputs": [
    {
     "name": "stdout",
     "output_type": "stream",
     "text": [
      "Stored 'table' (ndarray)\n"
     ]
    }
   ],
   "source": [
    "# store the variable in the server for another notebook to read it\n",
    "%store table\n",
    "del table\n"
   ]
  },
  {
   "cell_type": "code",
   "execution_count": null,
   "metadata": {
    "collapsed": true
   },
   "outputs": [],
   "source": []
  }
 ],
 "metadata": {
  "anaconda-cloud": {},
  "kernelspec": {
   "display_name": "Python [conda env:py27]",
   "language": "python",
   "name": "conda-env-py27-py"
  },
  "language_info": {
   "codemirror_mode": {
    "name": "ipython",
    "version": 2
   },
   "file_extension": ".py",
   "mimetype": "text/x-python",
   "name": "python",
   "nbconvert_exporter": "python",
   "pygments_lexer": "ipython2",
   "version": "2.7.12"
  }
 },
 "nbformat": 4,
 "nbformat_minor": 1
}
