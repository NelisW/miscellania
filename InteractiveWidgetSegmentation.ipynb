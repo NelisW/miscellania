{
 "cells": [
  {
   "cell_type": "markdown",
   "metadata": {},
   "source": [
    "# Threshold image by interactive widgets"
   ]
  },
  {
   "cell_type": "markdown",
   "metadata": {},
   "source": [
    "## Introduction"
   ]
  },
  {
   "cell_type": "markdown",
   "metadata": {},
   "source": [
    "IPython 2.0 introduced interactive widgets that allows the creation of GUI widgets in the notebook.  The widgets are relatively simple to implement in notebook code.  The interactive widgets API support different layers of detail, providing increasing control at lower levels.\n",
    "\n",
    "This notebook explores a very simple scenario where a slider is used to specify a threshold used to segment an image."
   ]
  },
  {
   "cell_type": "markdown",
   "metadata": {},
   "source": [
    "An excellent introduction to the IPython display system and interactive widgets was given at a recent PyData conference by Granger and Frederic.  The introduction provides IPython notebooks as well as videos of the presentations at the conference. \n",
    "\n",
    "Videos are here:  \n",
    "<https://www.youtube.com/watch?v=VaV10VNZCLA>  \n",
    "<https://www.youtube.com/watch?v=vE_CJTen15M>  \n",
    "<https://www.youtube.com/watch?v=o7Tb7YhJZR0>  \n",
    "\n",
    "IPython notebooks are also available.  Clone or download the complete repository at   \n",
    "<https://github.com/ipython/ipython-in-depth>  \n",
    "and then open the file `ipython-in-depth/examples/Interactive Widgets/Index.ipynb`   \n",
    "\n",
    "Read at least the first two tutorials `Using Interact` and `Widget Basics`. There is much more to read, but these two should get you going.\n",
    "\n",
    "\n",
    "<div class=\"alert alert-success\">\n",
    "As of IPython 2.0, the widgets in this notebook won't show up on http://nbviewer.ipython.org. To view the widgets and interact with them, you will need to download this notebook and run it with an IPython Notebook server.  See the Granger/Ferderic videos for more information.\n",
    "</div>"
   ]
  },
  {
   "cell_type": "code",
   "execution_count": 1,
   "metadata": {
    "collapsed": false
   },
   "outputs": [
    {
     "name": "stderr",
     "output_type": "stream",
     "text": [
      "C:\\ProgramData\\Anaconda3\\lib\\site-packages\\IPython\\html.py:14: ShimWarning: The `IPython.html` package has been deprecated since IPython 4.0. You should import from `notebook` instead. `IPython.html.widgets` has moved to `ipywidgets`.\n",
      "  \"`IPython.html.widgets` has moved to `ipywidgets`.\", ShimWarning)\n"
     ]
    }
   ],
   "source": [
    "import IPython.html.widgets as widgets\n",
    "from IPython.display import display"
   ]
  },
  {
   "cell_type": "code",
   "execution_count": 2,
   "metadata": {
    "collapsed": false
   },
   "outputs": [
    {
     "data": {
      "text/plain": [
       "['CoreWidget', 'DOMWidget', 'ValueWidget', 'Widget']"
      ]
     },
     "execution_count": 2,
     "metadata": {},
     "output_type": "execute_result"
    }
   ],
   "source": [
    "[n for n in dir(widgets) if n.endswith('Widget') and n[0] == n[0].upper() and not n[0] == '_']\n",
    "# [n for n in dir(widgets) if  not n[0] == '_']"
   ]
  },
  {
   "cell_type": "code",
   "execution_count": 3,
   "metadata": {
    "collapsed": false
   },
   "outputs": [
    {
     "data": {
      "application/vnd.jupyter.widget-view+json": {
       "model_id": "877f0732392540f5bfebed951a5aa926",
       "version_major": 2,
       "version_minor": 0
      },
      "text/plain": [
       "FloatSlider(value=7.5, description='Test:', max=10.0, min=5.0)"
      ]
     },
     "metadata": {},
     "output_type": "display_data"
    }
   ],
   "source": [
    "import IPython.html.widgets as widgets\n",
    "from IPython.display import display\n",
    "w = widgets.FloatSlider(value=7.5, min=5.0, max=10.0, step=0.1, description='Test:',)\n",
    "display(w)\n"
   ]
  },
  {
   "cell_type": "code",
   "execution_count": 4,
   "metadata": {
    "collapsed": false
   },
   "outputs": [
    {
     "name": "stdout",
     "output_type": "stream",
     "text": [
      "['_dom_classes', '_model_module', '_model_module_version', '_model_name', '_view_count', '_view_module', '_view_module_version', '_view_name', 'continuous_update', 'description', 'description_tooltip', 'disabled', 'layout', 'max', 'min', 'orientation', 'readout', 'readout_format', 'step', 'style', 'value']\n"
     ]
    }
   ],
   "source": [
    "print(w.keys)"
   ]
  },
  {
   "cell_type": "markdown",
   "metadata": {},
   "source": [
    "## Segmenting an image"
   ]
  },
  {
   "cell_type": "markdown",
   "metadata": {},
   "source": [
    "The following example loads an image file, sets up a slider and then display the segmented image and its statistical properties."
   ]
  },
  {
   "cell_type": "code",
   "execution_count": 5,
   "metadata": {
    "collapsed": false
   },
   "outputs": [],
   "source": [
    "import IPython.html.widgets as widgets\n",
    "from IPython.display import display\n",
    "from scipy.misc import imread\n",
    "import numpy as np\n",
    "import pyradi.ryplot as ryplot\n",
    "\n",
    "%matplotlib inline"
   ]
  },
  {
   "cell_type": "markdown",
   "metadata": {},
   "source": [
    "Play with the two images to observe the effect of the different gray level distributions."
   ]
  },
  {
   "cell_type": "code",
   "execution_count": 6,
   "metadata": {
    "collapsed": false
   },
   "outputs": [
    {
     "name": "stderr",
     "output_type": "stream",
     "text": [
      "C:\\ProgramData\\Anaconda3\\lib\\site-packages\\ipykernel_launcher.py:1: DeprecationWarning:\n",
      "\n",
      "`imread` is deprecated!\n",
      "`imread` is deprecated in SciPy 1.0.0, and will be removed in 1.2.0.\n",
      "Use ``imageio.imread`` instead.\n",
      "\n"
     ]
    },
    {
     "name": "stdout",
     "output_type": "stream",
     "text": [
      "512 512 262144\n"
     ]
    },
    {
     "name": "stderr",
     "output_type": "stream",
     "text": [
      "C:\\ProgramData\\Anaconda3\\lib\\site-packages\\ipykernel_launcher.py:2: DeprecationWarning:\n",
      "\n",
      "`imread` is deprecated!\n",
      "`imread` is deprecated in SciPy 1.0.0, and will be removed in 1.2.0.\n",
      "Use ``imageio.imread`` instead.\n",
      "\n"
     ]
    }
   ],
   "source": [
    "img = np.array(imread('images/peppers256.png', flatten=1))\n",
    "img = np.array(imread('images/AN148_C3.png', flatten=1))\n",
    "print(img.shape[0], img.shape[1], img.shape[0]*img.shape[1])"
   ]
  },
  {
   "cell_type": "markdown",
   "metadata": {},
   "source": [
    "Plot the histogram for reference."
   ]
  },
  {
   "cell_type": "code",
   "execution_count": 7,
   "metadata": {
    "collapsed": false
   },
   "outputs": [
    {
     "data": {
      "image/png": "[encoded data removed]",
      "text/plain": [
       "<Figure size 864x288 with 1 Axes>"
      ]
     },
     "metadata": {
      "needs_background": "light"
     },
     "output_type": "display_data"
    }
   ],
   "source": [
    "hist, bin = np.histogram(img,bins=128)\n",
    "p = ryplot.Plotter(1,1,1,figsize=(12,4))\n",
    "p.plot(1,bin[1:],hist,'', 'Gray level', 'Count');\n"
   ]
  },
  {
   "cell_type": "markdown",
   "metadata": {},
   "source": [
    "The following function does the image segmentation and will be called from `widgets.interactive`. The function is given the image and the threshold value to be used in the segmentation.  The image is segmented and displayed inside this function - required because the image must be displayed every time the segmentation threshold is changed.  The function returns the segmented image and threshold value for the image (these returns can be used subsequently elsewhere).  The function displays the histogram of the segmented image, excluding the first bin, which contains the discarded elements, as well as the cumulative probability of the original input image. All this processing takes a while, so the software is sluggish for large images.\n"
   ]
  },
  {
   "cell_type": "code",
   "execution_count": 8,
   "metadata": {
    "collapsed": false
   },
   "outputs": [],
   "source": [
    "def threshold_image(image, thx):\n",
    "    nimg = np.where(image > thx, image, 0)\n",
    "    hist, bin = np.histogram(image,bins=128)\n",
    "    hists, bin = np.histogram(nimg,bins=128)\n",
    "    cumsum = np.cumsum(hist)/(np.ones(hist.shape) * image.shape[0]*image.shape[1])\n",
    "    p = ryplot.Plotter(1,1,3,figsize=(18,6))\n",
    "    p.showImage(1, nimg);\n",
    "    p.plot(2,bin[2:], hists[1:],'', 'Gray level', 'Count');\n",
    "    p.plot(3,bin[1:], cumsum,'', 'Gray level', 'Cummulative probability');\n",
    "    p.plot(3,np.asarray([thx,thx]), np.asarray([0,1]));    \n",
    "#     display(nimg)\n",
    "    return nimg,thx"
   ]
  },
  {
   "cell_type": "markdown",
   "metadata": {},
   "source": [
    "The `widgets.interactive` function is given three types of parameters:   \n",
    " - The first parameter is the name of the function to be called when the widget's states changes.\n",
    " - Any input data to be passed to the function (any number of parameters).  These inputs must be flagged as inputs by using `widgets.fixed()` function. If so flagged the parameters will not be interpreted as widgets, but as input data.\n",
    " - The definition of the widgets to be drawn and interrogated. All parameters not flagged as `widgets.fixed()` are interpreted as widget definitions, either in shorthand form or by explicit definition (see the Granger/Frederic notebooks).\n",
    "\n",
    "In this case the function is `threshold_image`, and only one data item is passed `img`, and there a float slider widget ranging from 0 to 255, with step increment of 1.0. \n",
    "\n",
    "The `interactive` function is used and assigned to a variable.  This is necessary because later we want to use the variable to read the return values from the segmentation function.  The `display` function must be called on the widget variable to display the widget.  Once the widget is displayed, the user can change the slide value, which in turn calls the threshold function, which does the segmentation and displays the image."
   ]
  },
  {
   "cell_type": "code",
   "execution_count": 9,
   "metadata": {
    "collapsed": false
   },
   "outputs": [
    {
     "data": {
      "application/vnd.jupyter.widget-view+json": {
       "model_id": "98d61c1113e447db86a91008e3a36a52",
       "version_major": 2,
       "version_minor": 0
      },
      "text/plain": [
       "interactive(children=(FloatSlider(value=128.0, description='thx', max=255.0, step=1.0), Output()), _dom_classe…"
      ]
     },
     "metadata": {},
     "output_type": "display_data"
    }
   ],
   "source": [
    "w = widgets.interactive(threshold_image, image=widgets.fixed(img), \n",
    "                thx=widgets.FloatSlider(value=128, min=0.0, max=255.0, step=1))\n",
    "display(w)"
   ]
  },
  {
   "cell_type": "markdown",
   "metadata": {},
   "source": [
    "The segmentation function returns a segmented image and the value of the segmentation threshold.  These values can be accessed after the slider has been moved, as the `result` attribute of the widget.  The inputs to the segmentation function is available in the `kwargs` attribute."
   ]
  },
  {
   "cell_type": "code",
   "execution_count": 10,
   "metadata": {
    "collapsed": false
   },
   "outputs": [
    {
     "name": "stdout",
     "output_type": "stream",
     "text": [
      "<class 'numpy.ndarray'>\n",
      "<class 'float'>\n",
      "98.0\n",
      "[[128. 128. 128. ... 129. 129. 129.]\n",
      " [128. 128. 128. ... 129. 129. 129.]\n",
      " [128. 128. 128. ... 129. 129. 129.]\n",
      " ...\n",
      " [253. 253. 253. ... 253. 253. 253.]\n",
      " [253. 253. 253. ... 253. 253. 253.]\n",
      " [253. 253. 253. ... 253. 253. 253.]]\n"
     ]
    }
   ],
   "source": [
    "# print current keyword arguments: the input image and the threshold\n",
    "# print(w.kwargs)\n",
    "\n",
    "# print function return values\n",
    "print(type(w.result[0]))\n",
    "print(type(w.result[1]))\n",
    "print(w.result[1])\n",
    "print(w.result[0])\n"
   ]
  },
  {
   "cell_type": "markdown",
   "metadata": {},
   "source": [
    "## Python and [module versions, and dates](https://github.com/rasbt/watermark)"
   ]
  },
  {
   "cell_type": "code",
   "execution_count": 12,
   "metadata": {
    "collapsed": false
   },
   "outputs": [
    {
     "name": "stdout",
     "output_type": "stream",
     "text": [
      "last updated: 2019-03-18 2019-03-18T15:28:01+02:00\n",
      "\n",
      "CPython 3.7.1\n",
      "IPython 7.2.0\n",
      "\n",
      "numpy 1.15.4\n",
      "scipy 1.1.0\n",
      "pyradi 1.1.4\n",
      "pandas 0.23.4\n",
      "\n",
      "compiler   : MSC v.1915 64 bit (AMD64)\n",
      "system     : Windows\n",
      "release    : 7\n",
      "machine    : AMD64\n",
      "processor  : Intel64 Family 6 Model 94 Stepping 3, GenuineIntel\n",
      "CPU cores  : 8\n",
      "interpreter: 64bit\n",
      "Git hash   : b9ec9d46dbd24ac820cf5101d8ede6b632ce0272\n",
      "Git repo   : https://github.com/NelisW/miscellania.git\n",
      "Git branch : master\n"
     ]
    }
   ],
   "source": [
    "# to get software versions\n",
    "# https://github.com/rasbt/watermark\n",
    "# https://github.com/rasbt/watermark/blob/master/docs/watermark.ipynb\n",
    "# you only need to do this once\n",
    "# pip install watermark\n",
    "\n",
    "%load_ext watermark\n",
    "# %watermark -v -m -p numpy,scipy,pyradi -g -d\n",
    "%watermark -v -m -p numpy,scipy,pyradi,pandas -g -r -u -d -b -i\n"
   ]
  },
  {
   "cell_type": "code",
   "execution_count": null,
   "metadata": {
    "collapsed": true
   },
   "outputs": [],
   "source": []
  }
 ],
 "metadata": {
  "kernelspec": {
   "display_name": "Python 3",
   "language": "python",
   "name": "python3"
  },
  "language_info": {
   "codemirror_mode": {
    "name": "ipython",
    "version": 3
   },
   "file_extension": ".py",
   "mimetype": "text/x-python",
   "name": "python",
   "nbconvert_exporter": "python",
   "pygments_lexer": "ipython3",
   "version": "3.7.1"
  }
 },
 "nbformat": 4,
 "nbformat_minor": 2
}
