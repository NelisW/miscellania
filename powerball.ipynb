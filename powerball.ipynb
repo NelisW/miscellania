{
 "cells": [
  {
   "cell_type": "code",
   "execution_count": 18,
   "metadata": {},
   "outputs": [],
   "source": [
    "#!/usr/bin/env python\n",
    "# https://gist.github.com/richiverse/a42ca04d6734a345850f\n",
    "\n",
    "from pprint import pprint as pp\n",
    "import random"
   ]
  },
  {
   "cell_type": "code",
   "execution_count": 19,
   "metadata": {},
   "outputs": [
    {
     "name": "stdout",
     "output_type": "stream",
     "text": [
      "[1, 2, 3, 4, 5, 6, 7, 8, 9, 10, 11, 12, 13, 14, 15, 16, 17, 18, 19, 20, 21, 22, 23, 24, 25, 26, 27, 28, 29, 30, 31, 32, 33, 34, 35, 36, 37, 38, 39, 40, 41, 42, 43, 44, 45, 46, 47, 48, 49, 50, 51, 52]\n",
      "[1, 2, 3, 4, 5, 6, 7, 8, 9, 10, 11, 12, 13, 14, 15, 16, 17, 18, 19, 20, 21, 22, 23, 24, 25, 26, 27, 28, 29, 30, 31, 32, 33, 34, 35, 36, 37, 38, 39, 40, 41, 42, 43, 44, 45, 46, 47, 48, 49, 50]\n",
      "[1, 2, 3, 4, 5, 6, 7, 8, 9, 10, 11, 12, 13, 14, 15, 16, 17, 18, 19, 20]\n"
     ]
    }
   ],
   "source": [
    "print(list(range(1,53)))\n",
    "print(list(range(1,51)))\n",
    "print(list(range(1,21)))\n"
   ]
  },
  {
   "cell_type": "code",
   "execution_count": 20,
   "metadata": {},
   "outputs": [],
   "source": [
    "def powerball():\n",
    "    drum1 = list(range(1,51))\n",
    "    drum2 = list(range(1,21))\n",
    "    white_balls = []\n",
    "    \n",
    "    for _ in range(5):\n",
    "        choice = random.SystemRandom().choice(drum1)\n",
    "        drum1.pop(drum1.index(choice))\n",
    "        white_balls.append(choice)\n",
    "    white_balls = sorted(white_balls)\n",
    "    return white_balls + [random.SystemRandom().choice(drum2)]"
   ]
  },
  {
   "cell_type": "code",
   "execution_count": 27,
   "metadata": {},
   "outputs": [],
   "source": [
    "def lotto():\n",
    "    drum1 = list(range(1,53))\n",
    "    white_balls = []\n",
    "    \n",
    "    for _ in range(6):\n",
    "        choice = random.SystemRandom().choice(drum1)\n",
    "        drum1.pop(drum1.index(choice))\n",
    "        white_balls.append(choice)\n",
    "    white_balls = sorted(white_balls)\n",
    "    return white_balls "
   ]
  },
  {
   "cell_type": "code",
   "execution_count": 28,
   "metadata": {},
   "outputs": [
    {
     "name": "stdout",
     "output_type": "stream",
     "text": [
      "[7, 10, 19, 26, 32, 13]\n",
      "[18, 24, 40, 45, 49, 15]\n",
      "[9, 18, 27, 36, 45, 14]\n",
      "[5, 6, 14, 34, 36, 12]\n",
      "[11, 23, 29, 31, 38, 2]\n",
      "[8, 17, 27, 37, 45, 1]\n"
     ]
    }
   ],
   "source": [
    "for i in range(6):\n",
    "    pp(powerball())\n",
    "    "
   ]
  },
  {
   "cell_type": "code",
   "execution_count": 31,
   "metadata": {},
   "outputs": [
    {
     "name": "stdout",
     "output_type": "stream",
     "text": [
      "[9, 22, 24, 45, 48, 52]\n",
      "[7, 17, 22, 35, 49, 50]\n",
      "[3, 8, 9, 11, 32, 49]\n",
      "[4, 15, 20, 23, 41, 46]\n",
      "[17, 23, 26, 28, 38, 50]\n",
      "[4, 9, 16, 18, 26, 30]\n",
      "[4, 8, 11, 15, 16, 29]\n",
      "[8, 15, 26, 31, 41, 51]\n"
     ]
    }
   ],
   "source": [
    "for i in range(8):\n",
    "    pp(lotto())"
   ]
  },
  {
   "cell_type": "code",
   "execution_count": null,
   "metadata": {},
   "outputs": [],
   "source": []
  },
  {
   "cell_type": "code",
   "execution_count": null,
   "metadata": {},
   "outputs": [],
   "source": []
  },
  {
   "cell_type": "code",
   "execution_count": null,
   "metadata": {},
   "outputs": [],
   "source": []
  },
  {
   "cell_type": "code",
   "execution_count": 24,
   "metadata": {},
   "outputs": [
    {
     "data": {
      "text/plain": [
       "'piet'"
      ]
     },
     "execution_count": 24,
     "metadata": {},
     "output_type": "execute_result"
    }
   ],
   "source": [
    "input('Enter your name:\\n')"
   ]
  },
  {
   "cell_type": "code",
   "execution_count": null,
   "metadata": {},
   "outputs": [],
   "source": []
  }
 ],
 "metadata": {
  "kernelspec": {
   "display_name": "Python 3",
   "language": "python",
   "name": "python3"
  },
  "language_info": {
   "codemirror_mode": {
    "name": "ipython",
    "version": 3
   },
   "file_extension": ".py",
   "mimetype": "text/x-python",
   "name": "python",
   "nbconvert_exporter": "python",
   "pygments_lexer": "ipython3",
   "version": "3.6.1"
  }
 },
 "nbformat": 4,
 "nbformat_minor": 2
}
