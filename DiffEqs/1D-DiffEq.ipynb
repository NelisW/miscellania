{
 "cells": [
  {
   "cell_type": "markdown",
   "metadata": {},
   "source": [
    "# 1D Differential Equation\n"
   ]
  },
  {
   "cell_type": "markdown",
   "metadata": {},
   "source": [
    "## cliburn sta-663-2015\n",
    "\n",
    "https://github.com/cliburn/sta-663-2015/blob/master/Lectures/Topic10_Practical_Optimization/BlackBoxOptimization.ipynb  \n",
    "https://people.duke.edu/~ccc14/  \n",
    "\n",
    "    \n",
    "This is a specialized application of curve_fit, in which the curve to be fitted is defined implcitly by an ordinary differentail equation \n",
    "\n",
    "$$\\frac{dx}{dt} = -kx$$ \n",
    "\n",
    "and we want to use observed data to estiamte the parameters $k$ and the initial value $x_0$. Of course this can be explicitly solved but the same approach can be used to find multiple paraemters for $n$-dimensional systems of ODEs."
   ]
  },
  {
   "cell_type": "code",
   "execution_count": 5,
   "metadata": {},
   "outputs": [],
   "source": [
    "\n",
    "import os\n",
    "import sys\n",
    "import glob\n",
    "import matplotlib.pyplot as plt\n",
    "import numpy as np\n",
    "import pandas as pd\n",
    "\n",
    "from scipy.optimize import curve_fit\n",
    "\n",
    "\n",
    "%matplotlib inline\n",
    "%precision 4\n",
    "plt.style.use('ggplot')"
   ]
  },
  {
   "cell_type": "code",
   "execution_count": 6,
   "metadata": {},
   "outputs": [],
   "source": [
    "from scipy.integrate import odeint\n",
    "\n",
    "def f(x, t, k):\n",
    "    \"\"\"Simple exponential decay.\"\"\"\n",
    "    return -k*x\n",
    "\n",
    "def x(t, k, x0):\n",
    "    \"\"\"\n",
    "    Solution to the ODE x'(t) = f(t,x,k) with initial condition x(0) = x0\n",
    "    \"\"\"\n",
    "    x = odeint(f, x0, t, args=(k,))\n",
    "    return x.ravel()"
   ]
  },
  {
   "cell_type": "code",
   "execution_count": 7,
   "metadata": {},
   "outputs": [
    {
     "name": "stdout",
     "output_type": "stream",
     "text": [
      "k = 0.313477\n",
      "x0 = 9.7958\n"
     ]
    }
   ],
   "source": [
    "\n",
    "# True parameter values\n",
    "x0_ = 10\n",
    "k_ = 0.1*np.pi\n",
    "\n",
    "# Some random data genererated from closed form soltuion plus Gaussian noise\n",
    "ts = np.sort(np.random.uniform(0, 10, 200))\n",
    "xs = x0_*np.exp(-k_*ts) + np.random.normal(0,0.1,200)\n",
    "\n",
    "popt, cov = curve_fit(x, ts, xs)\n",
    "k_opt, x0_opt = popt\n",
    "\n",
    "print(\"k = %g\" % k_opt)\n",
    "print(\"x0 = %g\" % x0_opt)"
   ]
  },
  {
   "cell_type": "code",
   "execution_count": 8,
   "metadata": {},
   "outputs": [
    {
     "data": {
      "image/png": "[encoded data removed]",
      "text/plain": [
       "<Figure size 432x288 with 1 Axes>"
      ]
     },
     "metadata": {},
     "output_type": "display_data"
    }
   ],
   "source": [
    "import matplotlib.pyplot as plt\n",
    "t = np.linspace(0, 10, 100)\n",
    "plt.plot(ts, xs, '.', t, x(t, k_opt, x0_opt), '-');"
   ]
  },
  {
   "cell_type": "markdown",
   "metadata": {},
   "source": [
    "https://people.duke.edu/~ccc14/sta-663/CalibratingODEs.html"
   ]
  },
  {
   "cell_type": "code",
   "execution_count": 15,
   "metadata": {},
   "outputs": [
    {
     "ename": "ModuleNotFoundError",
     "evalue": "No module named 'lmfit'",
     "output_type": "error",
     "traceback": [
      "\u001b[1;31m---------------------------------------------------------------------------\u001b[0m",
      "\u001b[1;31mModuleNotFoundError\u001b[0m                       Traceback (most recent call last)",
      "\u001b[1;32m<ipython-input-15-c032c5532961>\u001b[0m in \u001b[0;36m<module>\u001b[1;34m\u001b[0m\n\u001b[1;32m----> 1\u001b[1;33m \u001b[1;32mfrom\u001b[0m \u001b[0mlmfit\u001b[0m \u001b[1;32mimport\u001b[0m \u001b[0mminimize\u001b[0m\u001b[1;33m,\u001b[0m \u001b[0mParameters\u001b[0m\u001b[1;33m,\u001b[0m \u001b[0mParameter\u001b[0m\u001b[1;33m,\u001b[0m \u001b[0mreport_fit\u001b[0m\u001b[1;33m\u001b[0m\u001b[1;33m\u001b[0m\u001b[0m\n\u001b[0m\u001b[0;32m      2\u001b[0m \u001b[1;32mfrom\u001b[0m \u001b[0mscipy\u001b[0m\u001b[1;33m.\u001b[0m\u001b[0mintegrate\u001b[0m \u001b[1;32mimport\u001b[0m \u001b[0modeint\u001b[0m\u001b[1;33m\u001b[0m\u001b[1;33m\u001b[0m\u001b[0m\n\u001b[0;32m      3\u001b[0m \u001b[1;33m\u001b[0m\u001b[0m\n\u001b[0;32m      4\u001b[0m \u001b[1;32mdef\u001b[0m \u001b[0mf\u001b[0m\u001b[1;33m(\u001b[0m\u001b[0mxs\u001b[0m\u001b[1;33m,\u001b[0m \u001b[0mt\u001b[0m\u001b[1;33m,\u001b[0m \u001b[0mps\u001b[0m\u001b[1;33m)\u001b[0m\u001b[1;33m:\u001b[0m\u001b[1;33m\u001b[0m\u001b[1;33m\u001b[0m\u001b[0m\n\u001b[0;32m      5\u001b[0m     \u001b[1;34m\"\"\"Receptor synthesis-internalization model.\"\"\"\u001b[0m\u001b[1;33m\u001b[0m\u001b[1;33m\u001b[0m\u001b[0m\n",
      "\u001b[1;31mModuleNotFoundError\u001b[0m: No module named 'lmfit'"
     ]
    }
   ],
   "source": [
    "from lmfit import minimize, Parameters, Parameter, report_fit\n",
    "from scipy.integrate import odeint\n",
    "\n",
    "def f(xs, t, ps):\n",
    "    \"\"\"Receptor synthesis-internalization model.\"\"\"\n",
    "    try:\n",
    "        a = ps['a'].value\n",
    "        b = ps['b'].value\n",
    "    except:\n",
    "        a, b = ps\n",
    "    x = xs\n",
    "\n",
    "    return a - b*x\n",
    "\n",
    "def g(t, x0, ps):\n",
    "    \"\"\"\n",
    "    Solution to the ODE x'(t) = f(t,x,k) with initial condition x(0) = x0\n",
    "    \"\"\"\n",
    "    x = odeint(f, x0, t, args=(ps,))\n",
    "    return x\n",
    "\n",
    "def residual(ps, ts, data):\n",
    "    x0 = ps['x0'].value\n",
    "    model = g(ts, x0, ps)\n",
    "    return (model - data).ravel()\n",
    "\n",
    "a = 2.0\n",
    "b = 0.5\n",
    "true_params = [a, b]\n",
    "x0 = 10.0\n",
    "\n",
    "t = np.linspace(0, 10, 10)\n",
    "data = g(t, x0, true_params)\n",
    "data += np.random.normal(size=data.shape)\n",
    "\n",
    "# set parameters incluing bounds\n",
    "params = Parameters()\n",
    "params.add('x0', value=float(data[0]), min=0, max=100)\n",
    "params.add('a', value= 1.0, min=0, max=10)\n",
    "params.add('b', value= 1.0, min=0, max=10)\n",
    "\n",
    "# fit model and find predicted values\n",
    "result = minimize(residual, params, args=(t, data), method='leastsq')\n",
    "final = data + result.residual.reshape(data.shape)\n",
    "\n",
    "# plot data and fitted curves\n",
    "plt.plot(t, data, 'o')\n",
    "plt.plot(t, final, '--', linewidth=2, c='blue');\n",
    "\n",
    "# display fitted statistics\n",
    "report_fit(result)"
   ]
  },
  {
   "cell_type": "code",
   "execution_count": null,
   "metadata": {},
   "outputs": [],
   "source": []
  },
  {
   "cell_type": "code",
   "execution_count": null,
   "metadata": {},
   "outputs": [],
   "source": []
  },
  {
   "cell_type": "code",
   "execution_count": null,
   "metadata": {},
   "outputs": [],
   "source": []
  },
  {
   "cell_type": "code",
   "execution_count": null,
   "metadata": {},
   "outputs": [],
   "source": []
  },
  {
   "cell_type": "markdown",
   "metadata": {},
   "source": [
    "## Fitting data to system of ODEs using Python via Scipy & Numpy\n",
    "\n",
    "\n",
    "https://stackoverflow.com/questions/11278836/fitting-data-to-system-of-odes-using-python-via-scipy-numpy"
   ]
  },
  {
   "cell_type": "code",
   "execution_count": 11,
   "metadata": {},
   "outputs": [
    {
     "name": "stdout",
     "output_type": "stream",
     "text": [
      "parameter values are  [0.5222 0.1817]\n"
     ]
    },
    {
     "data": {
      "image/png": "[encoded data removed]",
      "text/plain": [
       "<Figure size 432x288 with 1 Axes>"
      ]
     },
     "metadata": {},
     "output_type": "display_data"
    }
   ],
   "source": [
    "import pylab as pp\n",
    "import numpy as np\n",
    "from scipy import integrate, interpolate\n",
    "from scipy import optimize\n",
    "\n",
    "##initialize the data\n",
    "x_data = np.linspace(0,9,10)\n",
    "y_data = np.array([0.000,0.416,0.489,0.595,0.506,0.493,0.458,0.394,0.335,0.309])\n",
    "\n",
    "\n",
    "def f(y, t, k): \n",
    "    \"\"\"define the ODE system in terms of \n",
    "        dependent variable y,\n",
    "        independent variable t, and\n",
    "        optinal parmaeters, in this case a single variable k \"\"\"\n",
    "    return (-k[0]*y[0],\n",
    "          k[0]*y[0]-k[1]*y[1],\n",
    "          k[1]*y[1])\n",
    "\n",
    "def my_ls_func(x,teta):\n",
    "    \"\"\"definition of function for LS fit\n",
    "        x gives evaluation points,\n",
    "        teta is an array of parameters to be varied for fit\"\"\"\n",
    "    # create an alias to f which passes the optional params    \n",
    "    f2 = lambda y,t: f(y, t, teta)\n",
    "    # calculate ode solution, retuen values for each entry of \"x\"\n",
    "    r = integrate.odeint(f2,y0,x)\n",
    "    #in this case, we only need one of the dependent variable values\n",
    "    return r[:,1]\n",
    "\n",
    "def f_resid(p):\n",
    "    \"\"\" function to pass to optimize.leastsq\n",
    "        The routine will square and sum the values returned by \n",
    "        this function\"\"\" \n",
    "    return y_data-my_ls_func(x_data,p)\n",
    "#solve the system - the solution is in variable c\n",
    "guess = [0.2,0.3] #initial guess for params\n",
    "y0 = [1,0,0] #inital conditions for ODEs\n",
    "(c,kvg) = optimize.leastsq(f_resid, guess) #get params\n",
    "\n",
    "print(\"parameter values are \",c)\n",
    "\n",
    "# fit ODE results to interpolating spline just for fun\n",
    "xeval=np.linspace(min(x_data), max(x_data),30) \n",
    "gls = interpolate.UnivariateSpline(xeval, my_ls_func(xeval,c), k=3, s=0)\n",
    "\n",
    "#pick a few more points for a very smooth curve, then plot \n",
    "#   data and curve fit\n",
    "xeval=np.linspace(min(x_data), max(x_data),200)\n",
    "#Plot of the data as red dots and fit as blue line\n",
    "pp.plot(x_data, y_data,'.r',xeval,gls(xeval),'-b')\n",
    "pp.xlabel('xlabel',{\"fontsize\":16})\n",
    "pp.ylabel(\"ylabel\",{\"fontsize\":16})\n",
    "pp.legend(('data','fit'),loc=0)\n",
    "pp.show()"
   ]
  },
  {
   "cell_type": "code",
   "execution_count": 14,
   "metadata": {},
   "outputs": [
    {
     "name": "stdout",
     "output_type": "stream",
     "text": [
      "parameter values are  [0.5222 0.1817] 1\n"
     ]
    },
    {
     "data": {
      "image/png": "[encoded data removed]",
      "text/plain": [
       "<Figure size 432x288 with 1 Axes>"
      ]
     },
     "metadata": {},
     "output_type": "display_data"
    }
   ],
   "source": [
    "# cleaned up a bit to get my head around it - thanks for sharing \n",
    "import pylab as pp\n",
    "import numpy as np\n",
    "from scipy import integrate, optimize\n",
    "\n",
    "class Parameterize_ODE():\n",
    "    def __init__(self):\n",
    "        self.X = np.linspace(0,9,10)\n",
    "        self.y = np.array([0.000,0.416,0.489,0.595,0.506,0.493,0.458,0.394,0.335,0.309])\n",
    "        self.y0 = [1,0,0] # inital conditions ODEs\n",
    "    def ode(self, y, X, p):\n",
    "        return (-p[0]*y[0],\n",
    "                 p[0]*y[0]-p[1]*y[1],\n",
    "                           p[1]*y[1])\n",
    "    def model(self, X, p):\n",
    "        return integrate.odeint(self.ode, self.y0, X, args=(p,))\n",
    "    def f_resid(self, p):\n",
    "        return self.y - self.model(self.X, p)[:,1]\n",
    "    def optim(self, p_quess):\n",
    "        return optimize.leastsq(self.f_resid, p_guess) # fit params\n",
    "\n",
    "po = Parameterize_ODE(); p_guess = [0.2, 0.3] \n",
    "c, kvg = po.optim(p_guess)\n",
    "\n",
    "# --- show ---\n",
    "print(\"parameter values are \", c, kvg)\n",
    "x = np.linspace(min(po.X), max(po.X), 2000)\n",
    "pp.plot(po.X, po.y,'.r',x, po.model(x, c)[:,1],'-b')\n",
    "pp.xlabel('X',{\"fontsize\":16}); pp.ylabel(\"y\",{\"fontsize\":16}); pp.legend(('data','fit'),loc=0); pp.show()"
   ]
  },
  {
   "cell_type": "code",
   "execution_count": null,
   "metadata": {},
   "outputs": [],
   "source": []
  }
 ],
 "metadata": {
  "kernelspec": {
   "display_name": "Python 3",
   "language": "python",
   "name": "python3"
  },
  "language_info": {
   "codemirror_mode": {
    "name": "ipython",
    "version": 3
   },
   "file_extension": ".py",
   "mimetype": "text/x-python",
   "name": "python",
   "nbconvert_exporter": "python",
   "pygments_lexer": "ipython3",
   "version": "3.7.3"
  }
 },
 "nbformat": 4,
 "nbformat_minor": 2
}
